{
  "nbformat": 4,
  "nbformat_minor": 0,
  "metadata": {
    "colab": {
      "name": "dasc500_w1_1.ipynb",
      "provenance": [],
      "collapsed_sections": [],
      "include_colab_link": true
    },
    "kernelspec": {
      "name": "python3",
      "display_name": "Python 3"
    }
  },
  "cells": [
    {
      "cell_type": "markdown",
      "metadata": {
        "id": "view-in-github",
        "colab_type": "text"
      },
      "source": [
        "<a href=\"https://colab.research.google.com/github/Auburngrads/colab_projects/blob/master/dasc500_w1_1.ipynb\" target=\"_parent\"><img src=\"https://colab.research.google.com/assets/colab-badge.svg\" alt=\"Open In Colab\"/></a>"
      ]
    },
    {
      "cell_type": "markdown",
      "metadata": {
        "id": "dfXLCAvqLJJg",
        "colab_type": "text"
      },
      "source": [
        "This notebook introduces you to performing some basic operations in Python.\n",
        "\n",
        "First, create a set of obsrevations and store the obervations in an array named `obs`. "
      ]
    },
    {
      "cell_type": "code",
      "metadata": {
        "id": "kmg7xs_fPKce",
        "colab_type": "code",
        "colab": {}
      },
      "source": [
        "import numpy as np\n",
        "n_obs = 10"
      ],
      "execution_count": 0,
      "outputs": []
    },
    {
      "cell_type": "code",
      "metadata": {
        "id": "lRcoVQ5XLGaE",
        "colab_type": "code",
        "colab": {}
      },
      "source": [
        "obs = np.random.normal(loc = 2,\n",
        "                       scale = 0.25,\n",
        "                       size = n_obs)"
      ],
      "execution_count": 0,
      "outputs": []
    },
    {
      "cell_type": "markdown",
      "metadata": {
        "id": "x_n9BqU6L6BN",
        "colab_type": "text"
      },
      "source": [
        "Next, define a new function called `my_mean` that takes a single argument named `values` that is an array of numbers.  This function should return the simple mean of this array "
      ]
    },
    {
      "cell_type": "code",
      "metadata": {
        "id": "Sksq5Kk9Lb-7",
        "colab_type": "code",
        "colab": {}
      },
      "source": [
        "def my_mean(values):\n",
        "  numer = sum(values)\n",
        "  denom = len(values)\n",
        "  return(numer / denom)\n"
      ],
      "execution_count": 0,
      "outputs": []
    },
    {
      "cell_type": "markdown",
      "metadata": {
        "id": "_lnJ4rzCNHBW",
        "colab_type": "text"
      },
      "source": [
        "Now, used the function you created to compute the mean of the array `obs` that you created in above"
      ]
    },
    {
      "cell_type": "code",
      "metadata": {
        "id": "pPBLjMK9LtW1",
        "colab_type": "code",
        "outputId": "fb8fa6c2-9ec9-4844-b809-9e50832d7819",
        "colab": {
          "base_uri": "https://localhost:8080/",
          "height": 34
        }
      },
      "source": [
        "my_mean(obs)"
      ],
      "execution_count": 0,
      "outputs": [
        {
          "output_type": "execute_result",
          "data": {
            "text/plain": [
              "1.9978254485637357"
            ]
          },
          "metadata": {
            "tags": []
          },
          "execution_count": 13
        }
      ]
    },
    {
      "cell_type": "code",
      "metadata": {
        "id": "8xvTJQClR2Hp",
        "colab_type": "code",
        "outputId": "9e777d7b-35a7-41aa-d8c3-41b0936340cc",
        "colab": {
          "base_uri": "https://localhost:8080/",
          "height": 231
        }
      },
      "source": [
        "N_obs = [10,50,100,500,1000,5000,10000]\n",
        "stu = np.zeros(shape=[len(N_obs)])\n",
        "\n",
        "for i in range(len(N_obs)):\n",
        "  sss = np.random.normal(loc = 2,\n",
        "                         scale = 0.25,\n",
        "                         size = N_obs[i])\n",
        "  \n",
        "  stu.itemset(i,abs(2 - sss))\n",
        "\n",
        "stu"
      ],
      "execution_count": 0,
      "outputs": [
        {
          "output_type": "error",
          "ename": "ValueError",
          "evalue": "ignored",
          "traceback": [
            "\u001b[0;31m---------------------------------------------------------------------------\u001b[0m",
            "\u001b[0;31mValueError\u001b[0m                                Traceback (most recent call last)",
            "\u001b[0;32m<ipython-input-31-49b5b6d2de46>\u001b[0m in \u001b[0;36m<module>\u001b[0;34m()\u001b[0m\n\u001b[1;32m      7\u001b[0m                          size = N_obs[i])\n\u001b[1;32m      8\u001b[0m \u001b[0;34m\u001b[0m\u001b[0m\n\u001b[0;32m----> 9\u001b[0;31m   \u001b[0mstu\u001b[0m\u001b[0;34m.\u001b[0m\u001b[0mitemset\u001b[0m\u001b[0;34m(\u001b[0m\u001b[0mi\u001b[0m\u001b[0;34m,\u001b[0m\u001b[0mabs\u001b[0m\u001b[0;34m(\u001b[0m\u001b[0;36m2\u001b[0m \u001b[0;34m-\u001b[0m \u001b[0msss\u001b[0m\u001b[0;34m)\u001b[0m\u001b[0;34m)\u001b[0m\u001b[0;34m\u001b[0m\u001b[0;34m\u001b[0m\u001b[0m\n\u001b[0m\u001b[1;32m     10\u001b[0m \u001b[0;34m\u001b[0m\u001b[0m\n\u001b[1;32m     11\u001b[0m \u001b[0mstu\u001b[0m\u001b[0;34m\u001b[0m\u001b[0;34m\u001b[0m\u001b[0m\n",
            "\u001b[0;31mValueError\u001b[0m: setting an array element with a sequence."
          ]
        }
      ]
    }
  ]
}