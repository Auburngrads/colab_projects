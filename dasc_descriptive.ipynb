{
  "nbformat": 4,
  "nbformat_minor": 0,
  "metadata": {
    "colab": {
      "name": "dasc_descriptive.ipynb",
      "provenance": [],
      "include_colab_link": true
    },
    "kernelspec": {
      "name": "python3",
      "display_name": "Python 3"
    }
  },
  "cells": [
    {
      "cell_type": "markdown",
      "metadata": {
        "id": "view-in-github",
        "colab_type": "text"
      },
      "source": [
        "<a href=\"https://colab.research.google.com/github/Auburngrads/colab_projects/blob/master/dasc_descriptive.ipynb\" target=\"_parent\"><img src=\"https://colab.research.google.com/assets/colab-badge.svg\" alt=\"Open In Colab\"/></a>"
      ]
    },
    {
      "cell_type": "markdown",
      "metadata": {
        "id": "nxE7ueMUt53b",
        "colab_type": "text"
      },
      "source": [
        "# Descriptive Statistics with Python"
      ]
    },
    {
      "cell_type": "markdown",
      "metadata": {
        "id": "1RP4B4i5tlYR",
        "colab_type": "text"
      },
      "source": [
        "Import required libraries into our workspace"
      ]
    },
    {
      "cell_type": "code",
      "metadata": {
        "id": "JXowaC19tOdu",
        "colab_type": "code",
        "colab": {}
      },
      "source": [
        "import statistics as st\n",
        "import numpy as np\n",
        "import seaborn as sb\n",
        "import matplotlib.pyplot as plt\n",
        "import pandas as pd\n",
        "import scipy as sp"
      ],
      "execution_count": 0,
      "outputs": []
    },
    {
      "cell_type": "markdown",
      "metadata": {
        "id": "DIahMhGmtyh5",
        "colab_type": "text"
      },
      "source": [
        "### Measures of Central Tendency - **mean**\n",
        "\n",
        "Mean is computed as\n",
        "\n",
        "$$\n",
        "\\bar{x} = \\frac{\\sum_{i = 1}^{N}x_i}{N} = \\frac{x_1 + x_2 + \\cdots + x_N}{N}.\n",
        "$$\n",
        "\n",
        "Compute the mean of an array"
      ]
    },
    {
      "cell_type": "code",
      "metadata": {
        "id": "oLUcSGh1uIXA",
        "colab_type": "code",
        "colab": {
          "base_uri": "https://localhost:8080/",
          "height": 34
        },
        "outputId": "7acb6b9c-2a46-4b03-cb2c-9832cea06459"
      },
      "source": [
        "nums = [-2,-4,1,2,3,5,7,9]\n",
        "st.mean(nums)"
      ],
      "execution_count": 2,
      "outputs": [
        {
          "output_type": "execute_result",
          "data": {
            "text/plain": [
              "2.625"
            ]
          },
          "metadata": {
            "tags": []
          },
          "execution_count": 2
        }
      ]
    },
    {
      "cell_type": "markdown",
      "metadata": {
        "id": "nsliWyFIuXQH",
        "colab_type": "text"
      },
      "source": [
        "Compute the mean of a dictionary"
      ]
    },
    {
      "cell_type": "code",
      "metadata": {
        "id": "0DxSrtlxucCU",
        "colab_type": "code",
        "colab": {
          "base_uri": "https://localhost:8080/",
          "height": 34
        },
        "outputId": "3372e3ed-0735-4242-b243-f2a08715269a"
      },
      "source": [
        "Dict = {1:\"one\",2:\"two\",3:\"three\"}\n",
        "\n",
        "Dict\n",
        "\n",
        "st.mean(Dict)"
      ],
      "execution_count": 3,
      "outputs": [
        {
          "output_type": "execute_result",
          "data": {
            "text/plain": [
              "2"
            ]
          },
          "metadata": {
            "tags": []
          },
          "execution_count": 3
        }
      ]
    },
    {
      "cell_type": "markdown",
      "metadata": {
        "id": "wCX4BC3CulXG",
        "colab_type": "text"
      },
      "source": [
        "### Measures of Central Tendency - **median**\n",
        "\n",
        "Compute the median of an array"
      ]
    },
    {
      "cell_type": "code",
      "metadata": {
        "id": "o4gzZdbnuu5R",
        "colab_type": "code",
        "colab": {}
      },
      "source": [
        "nums = [-2,-4,1,2,3,5,7,9]\n",
        "st.median(nums)"
      ],
      "execution_count": 0,
      "outputs": []
    },
    {
      "cell_type": "markdown",
      "metadata": {
        "id": "gNCpcjEUuwfu",
        "colab_type": "text"
      },
      "source": [
        "Compute the median of a dictionary"
      ]
    },
    {
      "cell_type": "code",
      "metadata": {
        "id": "nVnTxW58u1UO",
        "colab_type": "code",
        "colab": {}
      },
      "source": [
        "Dict = {1:\"one\",2:\"two\",3:\"three\"}\n",
        "\n",
        "st.median(Dict)"
      ],
      "execution_count": 0,
      "outputs": []
    },
    {
      "cell_type": "markdown",
      "metadata": {
        "id": "FlHGgBPru3XM",
        "colab_type": "text"
      },
      "source": [
        "### Measures of Central Tendency - **mode**\n",
        "\n",
        "Compute the mode of an array"
      ]
    },
    {
      "cell_type": "code",
      "metadata": {
        "id": "6pMfkBZlu-ci",
        "colab_type": "code",
        "colab": {
          "base_uri": "https://localhost:8080/",
          "height": 299
        },
        "outputId": "adaa7b42-e5d8-45a8-cd5b-2e89d8189561"
      },
      "source": [
        "nums = [-2,-4,1,2,3,5,7,9]\n",
        "st.mode(nums)"
      ],
      "execution_count": 4,
      "outputs": [
        {
          "output_type": "error",
          "ename": "StatisticsError",
          "evalue": "ignored",
          "traceback": [
            "\u001b[0;31m---------------------------------------------------------------------------\u001b[0m",
            "\u001b[0;31mStatisticsError\u001b[0m                           Traceback (most recent call last)",
            "\u001b[0;32m<ipython-input-4-aa5db2a3d41c>\u001b[0m in \u001b[0;36m<module>\u001b[0;34m()\u001b[0m\n\u001b[1;32m      1\u001b[0m \u001b[0mnums\u001b[0m \u001b[0;34m=\u001b[0m \u001b[0;34m[\u001b[0m\u001b[0;34m-\u001b[0m\u001b[0;36m2\u001b[0m\u001b[0;34m,\u001b[0m\u001b[0;34m-\u001b[0m\u001b[0;36m4\u001b[0m\u001b[0;34m,\u001b[0m\u001b[0;36m1\u001b[0m\u001b[0;34m,\u001b[0m\u001b[0;36m2\u001b[0m\u001b[0;34m,\u001b[0m\u001b[0;36m3\u001b[0m\u001b[0;34m,\u001b[0m\u001b[0;36m5\u001b[0m\u001b[0;34m,\u001b[0m\u001b[0;36m7\u001b[0m\u001b[0;34m,\u001b[0m\u001b[0;36m9\u001b[0m\u001b[0;34m]\u001b[0m\u001b[0;34m\u001b[0m\u001b[0;34m\u001b[0m\u001b[0m\n\u001b[0;32m----> 2\u001b[0;31m \u001b[0mst\u001b[0m\u001b[0;34m.\u001b[0m\u001b[0mmode\u001b[0m\u001b[0;34m(\u001b[0m\u001b[0mnums\u001b[0m\u001b[0;34m)\u001b[0m\u001b[0;34m\u001b[0m\u001b[0;34m\u001b[0m\u001b[0m\n\u001b[0m",
            "\u001b[0;32m/usr/lib/python3.6/statistics.py\u001b[0m in \u001b[0;36mmode\u001b[0;34m(data)\u001b[0m\n\u001b[1;32m    505\u001b[0m     \u001b[0;32melif\u001b[0m \u001b[0mtable\u001b[0m\u001b[0;34m:\u001b[0m\u001b[0;34m\u001b[0m\u001b[0;34m\u001b[0m\u001b[0m\n\u001b[1;32m    506\u001b[0m         raise StatisticsError(\n\u001b[0;32m--> 507\u001b[0;31m                 \u001b[0;34m'no unique mode; found %d equally common values'\u001b[0m \u001b[0;34m%\u001b[0m \u001b[0mlen\u001b[0m\u001b[0;34m(\u001b[0m\u001b[0mtable\u001b[0m\u001b[0;34m)\u001b[0m\u001b[0;34m\u001b[0m\u001b[0;34m\u001b[0m\u001b[0m\n\u001b[0m\u001b[1;32m    508\u001b[0m                 )\n\u001b[1;32m    509\u001b[0m     \u001b[0;32melse\u001b[0m\u001b[0;34m:\u001b[0m\u001b[0;34m\u001b[0m\u001b[0;34m\u001b[0m\u001b[0m\n",
            "\u001b[0;31mStatisticsError\u001b[0m: no unique mode; found 8 equally common values"
          ]
        }
      ]
    },
    {
      "cell_type": "markdown",
      "metadata": {
        "id": "vIYFXOLYvH4d",
        "colab_type": "text"
      },
      "source": [
        "### Measures of variation - **range**\n",
        "\n",
        "Compute the range of an array"
      ]
    },
    {
      "cell_type": "code",
      "metadata": {
        "id": "OrPh51rEvQQp",
        "colab_type": "code",
        "colab": {}
      },
      "source": [
        "max(nums) - min(nums)"
      ],
      "execution_count": 0,
      "outputs": []
    },
    {
      "cell_type": "markdown",
      "metadata": {
        "id": "ynMN7xpBvS2b",
        "colab_type": "text"
      },
      "source": [
        "### Measures of variation - **variance**\n",
        "\n",
        "Compute the variance of an array"
      ]
    },
    {
      "cell_type": "code",
      "metadata": {
        "id": "7k35F2ZAvXf1",
        "colab_type": "code",
        "colab": {}
      },
      "source": [
        "st.variance(nums)"
      ],
      "execution_count": 0,
      "outputs": []
    },
    {
      "cell_type": "markdown",
      "metadata": {
        "id": "6JVkiIC_vbQf",
        "colab_type": "text"
      },
      "source": [
        "Compute the variance of a dictionary"
      ]
    },
    {
      "cell_type": "code",
      "metadata": {
        "id": "q-Z4mgr8veOg",
        "colab_type": "code",
        "colab": {}
      },
      "source": [
        "st.variance(Dict)"
      ],
      "execution_count": 0,
      "outputs": []
    },
    {
      "cell_type": "markdown",
      "metadata": {
        "id": "fv23iXvHvjak",
        "colab_type": "text"
      },
      "source": [
        "### Measures of variation - **standard deviation**\n",
        "\n",
        "Compute the standard deviation of an array"
      ]
    },
    {
      "cell_type": "code",
      "metadata": {
        "id": "Im99l9n1viyq",
        "colab_type": "code",
        "colab": {}
      },
      "source": [
        "st.stdev(nums)"
      ],
      "execution_count": 0,
      "outputs": []
    },
    {
      "cell_type": "markdown",
      "metadata": {
        "id": "6hw9CYBmvs2l",
        "colab_type": "text"
      },
      "source": [
        "Compute the standard deviation of a dictionary"
      ]
    },
    {
      "cell_type": "code",
      "metadata": {
        "id": "kODpILGlvwjg",
        "colab_type": "code",
        "colab": {}
      },
      "source": [
        "st.stdev(Dict)"
      ],
      "execution_count": 0,
      "outputs": []
    },
    {
      "cell_type": "markdown",
      "metadata": {
        "id": "Jo-f6d27v0vZ",
        "colab_type": "text"
      },
      "source": [
        "# Generating numeric and visual data summaries\n",
        "\n",
        "Creating data sets as `numpy` arrays"
      ]
    },
    {
      "cell_type": "code",
      "metadata": {
        "id": "6Jq7nyQSwDxd",
        "colab_type": "code",
        "colab": {}
      },
      "source": [
        "N_obs = 4000\n",
        "\n",
        "normal = np.random.normal(loc = 1, scale = 10000, size = N_obs)\n",
        "\n",
        "lognormal = np.random.lognormal(mean = 10, sigma = .75, size = N_obs)"
      ],
      "execution_count": 0,
      "outputs": []
    },
    {
      "cell_type": "markdown",
      "metadata": {
        "id": "IDCSYiOYwO12",
        "colab_type": "text"
      },
      "source": [
        "Combining the arrays into a dictionary of key:value pairs"
      ]
    },
    {
      "cell_type": "code",
      "metadata": {
        "id": "6iWorMQHwWmz",
        "colab_type": "code",
        "colab": {}
      },
      "source": [
        "d = {'normal': normal, 'lognormal': lognormal}\n",
        "d"
      ],
      "execution_count": 0,
      "outputs": []
    },
    {
      "cell_type": "markdown",
      "metadata": {
        "id": "zyr_IltOwbgQ",
        "colab_type": "text"
      },
      "source": [
        "Converting the dictionary into a `pandas` DataFrame"
      ]
    },
    {
      "cell_type": "code",
      "metadata": {
        "id": "WkIQiHnzwjwG",
        "colab_type": "code",
        "colab": {}
      },
      "source": [
        "df = pd.DataFrame(data = d)"
      ],
      "execution_count": 0,
      "outputs": []
    },
    {
      "cell_type": "markdown",
      "metadata": {
        "id": "qs8uuSPnwop3",
        "colab_type": "text"
      },
      "source": [
        "Viewing the first 10 rows of `df`"
      ]
    },
    {
      "cell_type": "markdown",
      "metadata": {
        "id": "CcfbnRr7wrxA",
        "colab_type": "text"
      },
      "source": [
        "df.head(10)"
      ]
    },
    {
      "cell_type": "markdown",
      "metadata": {
        "id": "GjTv46HDwvrs",
        "colab_type": "text"
      },
      "source": [
        "### Generating a histogram of normal observations"
      ]
    },
    {
      "cell_type": "code",
      "metadata": {
        "id": "HUDGwZKPw1Zz",
        "colab_type": "code",
        "colab": {}
      },
      "source": [
        "# Settings\n",
        "sb.set_style(\"whitegrid\")\n",
        "\n",
        "# Create histogram\n",
        "plot = sb.distplot(df['normal'], \n",
        "                   kde = False, \n",
        "                   bins = int(N_obs / 10),\n",
        "                   axlabel = \"x NOR(0,1)\")\n",
        "\n",
        "# add vertical line showing the location of the mean, median \n",
        "plot = plt.axvline(df['normal'].mean(),   0,1, color = 'red')\n",
        "plot = plt.axvline(df['normal'].median(), 0,1, color = 'orange')\n",
        "\n",
        "plt.show(plot)"
      ],
      "execution_count": 0,
      "outputs": []
    },
    {
      "cell_type": "markdown",
      "metadata": {
        "id": "8gBxBcGhw5XM",
        "colab_type": "text"
      },
      "source": [
        "### Creating a histogram of lognormal observations"
      ]
    },
    {
      "cell_type": "code",
      "metadata": {
        "id": "S9azaxbQxBKg",
        "colab_type": "code",
        "colab": {}
      },
      "source": [
        "# Create histogram\n",
        "plot = sb.distplot(df['lognormal'], \n",
        "                   kde = False, \n",
        "                   bins = int(N_obs / 10),\n",
        "                   axlabel = \"x LOGNOR(10,0.75)\")\n",
        "\n",
        "# add vertical line showing the location of the mean, median \n",
        "plot = plt.axvline(df['lognormal'].mean(),   0,1, color = 'red')\n",
        "plot = plt.axvline(df['lognormal'].median(), 0,1, color = 'orange')\n",
        "\n",
        "plt.show(plot)"
      ],
      "execution_count": 0,
      "outputs": []
    },
    {
      "cell_type": "markdown",
      "metadata": {
        "id": "TQoaJRR1xGxT",
        "colab_type": "text"
      },
      "source": [
        "### Creating a boxplot comparing the normal and lognormal data"
      ]
    },
    {
      "cell_type": "code",
      "metadata": {
        "id": "vrj8IKL-xN5A",
        "colab_type": "code",
        "colab": {}
      },
      "source": [
        "plot = sb.boxplot(data = df)\n",
        "\n",
        "plt.show(plot)"
      ],
      "execution_count": 0,
      "outputs": []
    },
    {
      "cell_type": "markdown",
      "metadata": {
        "id": "sB_c-Ab-xUHo",
        "colab_type": "text"
      },
      "source": [
        "### Creating a jointplot showing the relationship between the normal and lognormal observations"
      ]
    },
    {
      "cell_type": "code",
      "metadata": {
        "id": "ZEgbIG8SxY51",
        "colab_type": "code",
        "colab": {}
      },
      "source": [
        "sb.jointplot(\"normal\",\"lognormal\", data = df)\n",
        "\n",
        "plt.show()"
      ],
      "execution_count": 0,
      "outputs": []
    },
    {
      "cell_type": "markdown",
      "metadata": {
        "id": "vENZ2ugTxftF",
        "colab_type": "text"
      },
      "source": [
        "### Creating a jointplot showing the relationship between the lognormal observations at itself"
      ]
    },
    {
      "cell_type": "code",
      "metadata": {
        "id": "rMCChj47xlsA",
        "colab_type": "code",
        "colab": {}
      },
      "source": [
        "plot = sb.jointplot(\"lognormal\",\"lognormal\", data = df)\n",
        "\n",
        "plt.show(plot)"
      ],
      "execution_count": 0,
      "outputs": []
    },
    {
      "cell_type": "markdown",
      "metadata": {
        "id": "jPnk0wxBxo16",
        "colab_type": "text"
      },
      "source": [
        "### Covariance and Correlation\n",
        "\n",
        "Compute the covariances for the DataFrame `df` we created earlier we can use the `cov()` function from the pandas library"
      ]
    },
    {
      "cell_type": "code",
      "metadata": {
        "id": "LXRy35ALx2mk",
        "colab_type": "code",
        "colab": {}
      },
      "source": [
        "cov1 = df.cov()\n",
        "cov1"
      ],
      "execution_count": 0,
      "outputs": []
    },
    {
      "cell_type": "markdown",
      "metadata": {
        "id": "zfVeBdp7x5wM",
        "colab_type": "text"
      },
      "source": [
        "Compute the correlations for the DataFrame `df` we created earlier we can use the `corr()` function from the pandas library"
      ]
    },
    {
      "cell_type": "code",
      "metadata": {
        "id": "JKDVkRRnx820",
        "colab_type": "code",
        "colab": {}
      },
      "source": [
        "df.corr()"
      ],
      "execution_count": 0,
      "outputs": []
    },
    {
      "cell_type": "markdown",
      "metadata": {
        "id": "VVsRMuovx_4X",
        "colab_type": "text"
      },
      "source": [
        "Compute the covariance of `df` without relying on `pandas`"
      ]
    },
    {
      "cell_type": "code",
      "metadata": {
        "id": "CYIWs7k2yH0j",
        "colab_type": "code",
        "colab": {}
      },
      "source": [
        "X = df['normal']\n",
        "Y = df['lognormal']\n",
        "X_diff = X - st.mean(X)\n",
        "Y_diff = Y - st.mean(Y)\n",
        "prod = X_diff * Y_diff\n",
        "\n",
        "cov2 = sum(prod) / (len(X) - 1)\n",
        "\n",
        "cov1['lognormal'][0] - cov2"
      ],
      "execution_count": 0,
      "outputs": []
    }
  ]
}